{
 "cells": [
  {
   "cell_type": "code",
   "execution_count": 1,
   "id": "006ddbd2",
   "metadata": {},
   "outputs": [],
   "source": [
    "import numpy as np\n",
    "import cv2\n",
    "\n",
    "from scipy.interpolate import interp2d\n",
    "\n",
    "from skimage import io\n"
   ]
  },
  {
   "cell_type": "code",
   "execution_count": 8,
   "id": "97a164f2",
   "metadata": {},
   "outputs": [],
   "source": [
    "fileaddr = 'F:/Folder_name/'\n",
    "filename = 'File_name'\n",
    "\n",
    "image = np.float32(io.imread(fileaddr + filename + '.tif'))\n",
    "\n",
    "scale = 6\n",
    "\n",
    "fx = scale\n",
    "fy = scale\n",
    "\n",
    "pad_image = np.zeros([3*image.shape[0], 3*image.shape[1]])\n",
    "\n",
    "pad_image[0:image.shape[0], 0:image.shape[1]] = image\n",
    "pad_image[0:image.shape[0], image.shape[1]:2*image.shape[1]] = image\n",
    "pad_image[0:image.shape[0], 2*image.shape[1]:3*image.shape[1]] = image\n",
    "pad_image[image.shape[0]:2*image.shape[0], 0:image.shape[1]] = image\n",
    "pad_image[image.shape[0]:2*image.shape[0], image.shape[1]:2*image.shape[1]] = image\n",
    "pad_image[image.shape[0]:2*image.shape[0], 2*image.shape[1]:3*image.shape[1]] = image\n",
    "pad_image[2*image.shape[0]:3*image.shape[0], 0:image.shape[1]] = image\n",
    "pad_image[2*image.shape[0]:3*image.shape[0], image.shape[1]:2*image.shape[1]] = image\n",
    "pad_image[2*image.shape[0]:3*image.shape[0], 2*image.shape[1]:3*image.shape[1]] = image\n",
    "\n"
   ]
  },
  {
   "cell_type": "code",
   "execution_count": 9,
   "id": "e08e1739",
   "metadata": {},
   "outputs": [],
   "source": [
    "f_pad_image = np.fft.fftshift(np.fft.fft2(pad_image, s=pad_image.shape))\n",
    "\n",
    "x = np.arange(f_pad_image.shape[1])\n",
    "y = np.arange(f_pad_image.shape[0])\n",
    "\n",
    "interp = interp2d(y, x, f_pad_image.real)\n",
    "\n",
    "x_new = np.arange(fx*f_pad_image.shape[1])\n",
    "y_new = np.arange(fy*f_pad_image.shape[0])\n",
    "\n",
    "new_real = interp(y_new, x_new)\n",
    "\n",
    "\n",
    "interp = interp2d(y, x, f_pad_image.imag)\n",
    "\n",
    "new_imag = interp(y_new, x_new)\n",
    "\n",
    "f_new_pad = new_real + 1j*new_imag\n",
    "\n",
    "new_pad = np.abs(np.fft.ifft2(f_new_pad, s=f_new_pad.shape))\n",
    "\n",
    "new_pad_rescaled = (new_pad-np.mean(new_pad))/np.std(new_pad)*np.std(pad_image)+np.mean(pad_image)\n",
    "\n",
    "cropped_new_pad = new_pad_rescaled[fx*image.shape[0]:2*fx*image.shape[0], fx*image.shape[1]:2*fx*image.shape[1]]\n",
    "\n",
    "io.imsave(fileaddr + filename + '_fourier_' + str(fx) + 'x.tif', np.float32(cropped_new_pad))"
   ]
  },
  {
   "cell_type": "code",
   "execution_count": null,
   "id": "851400f8",
   "metadata": {},
   "outputs": [],
   "source": []
  },
  {
   "cell_type": "code",
   "execution_count": null,
   "id": "e6bd8423",
   "metadata": {},
   "outputs": [],
   "source": []
  }
 ],
 "metadata": {
  "kernelspec": {
   "display_name": "Python 3 (ipykernel)",
   "language": "python",
   "name": "python3"
  },
  "language_info": {
   "codemirror_mode": {
    "name": "ipython",
    "version": 3
   },
   "file_extension": ".py",
   "mimetype": "text/x-python",
   "name": "python",
   "nbconvert_exporter": "python",
   "pygments_lexer": "ipython3",
   "version": "3.9.12"
  }
 },
 "nbformat": 4,
 "nbformat_minor": 5
}
